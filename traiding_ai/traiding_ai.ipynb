{
 "cells": [
  {
   "cell_type": "code",
   "execution_count": 8,
   "metadata": {},
   "outputs": [
    {
     "name": "stderr",
     "output_type": "stream",
     "text": [
      "2023-03-12 16:12:55.752748: I tensorflow/core/platform/cpu_feature_guard.cc:193] This TensorFlow binary is optimized with oneAPI Deep Neural Network Library (oneDNN) to use the following CPU instructions in performance-critical operations:  AVX2 FMA\n",
      "To enable them in other operations, rebuild TensorFlow with the appropriate compiler flags.\n",
      "2023-03-12 16:12:56.927278: W tensorflow/compiler/xla/stream_executor/platform/default/dso_loader.cc:64] Could not load dynamic library 'libnvinfer.so.7'; dlerror: libnvinfer.so.7: cannot open shared object file: No such file or directory; LD_LIBRARY_PATH: :/home/james/miniconda3/envs/tf/lib/\n",
      "2023-03-12 16:12:56.929082: W tensorflow/compiler/xla/stream_executor/platform/default/dso_loader.cc:64] Could not load dynamic library 'libnvinfer_plugin.so.7'; dlerror: libnvinfer_plugin.so.7: cannot open shared object file: No such file or directory; LD_LIBRARY_PATH: :/home/james/miniconda3/envs/tf/lib/\n",
      "2023-03-12 16:12:56.929096: W tensorflow/compiler/tf2tensorrt/utils/py_utils.cc:38] TF-TRT Warning: Cannot dlopen some TensorRT libraries. If you would like to use Nvidia GPU with TensorRT, please make sure the missing libraries mentioned above are installed properly.\n"
     ]
    },
    {
     "name": "stdout",
     "output_type": "stream",
     "text": [
      "[PhysicalDevice(name='/physical_device:GPU:0', device_type='GPU')]\n"
     ]
    },
    {
     "name": "stderr",
     "output_type": "stream",
     "text": [
      "2023-03-12 16:12:58.419963: I tensorflow/compiler/xla/stream_executor/cuda/cuda_gpu_executor.cc:967] could not open file to read NUMA node: /sys/bus/pci/devices/0000:01:00.0/numa_node\n",
      "Your kernel may have been built without NUMA support.\n",
      "2023-03-12 16:12:58.439319: I tensorflow/compiler/xla/stream_executor/cuda/cuda_gpu_executor.cc:967] could not open file to read NUMA node: /sys/bus/pci/devices/0000:01:00.0/numa_node\n",
      "Your kernel may have been built without NUMA support.\n",
      "2023-03-12 16:12:58.439562: I tensorflow/compiler/xla/stream_executor/cuda/cuda_gpu_executor.cc:967] could not open file to read NUMA node: /sys/bus/pci/devices/0000:01:00.0/numa_node\n",
      "Your kernel may have been built without NUMA support.\n"
     ]
    }
   ],
   "source": [
    "import keras\n",
    "import tensorflow as tf\n",
    "\n",
    "import numpy as np\n",
    "import matplotlib.pyplot as plt\n",
    "\n",
    "from keras import Sequential\n",
    "from keras.optimizers import Adam\n",
    "from keras.utils import plot_model\n",
    "from keras.callbacks import History\n",
    "from keras.layers import Dense, Input, Conv2D\n",
    "# from keras.callbacks import LambdaCallback, ModelCheckpoint\n",
    "\n",
    "\n",
    "EPOCHS: int = 2\n",
    "BATCH_SIZE: int = 128\n",
    "LOAD_MODEL: bool = False\n",
    "MODEL_FILENAME: str = 'numbers_detection.h5'\n",
    "\n",
    "print(tf.config.list_physical_devices('GPU'))"
   ]
  },
  {
   "cell_type": "code",
   "execution_count": 14,
   "metadata": {},
   "outputs": [
    {
     "name": "stdout",
     "output_type": "stream",
     "text": [
      "b\"<?xml version='1.0' encoding='UTF-8'?><Error><Code>UserProjectAccountProblem</Code><Message>The project to be billed is associated with a closed billing account.</Message><Details>The billing account for the owning project is disabled in state closed</Details></Error>\"\n",
      "b\"<?xml version='1.0' encoding='UTF-8'?><Error><Code>UserProjectAccountProblem</Code><Message>The project to be billed is associated with a closed billing account.</Message><Details>The billing account for the owning project is disabled in state closed</Details></Error>\"\n",
      "len(train_dataset)=0\n",
      "len(train_dataset_marks)=0\n",
      "len(test_dataset)=0\n",
      "len(test_dataset_marks)=0\n"
     ]
    }
   ],
   "source": [
    "import os\n",
    "import httpx\n",
    "\n",
    "DATASETS_URL: str = 'https://storage.googleapis.com/terra_ai/DataSets/shares.zip'\n",
    "\n",
    "\n",
    "\n",
    "def get_numbers_data() -> tuple[tuple[np.ndarray, np.ndarray], tuple[np.ndarray, np.ndarray]]:\n",
    "    # return mnist.load_data()\n",
    "\n",
    "    if not os.path.exists('traiding_dataset'):\n",
    "        os.mkdir('traiding_dataset')\n",
    "\n",
    "    response = httpx.get(DATASETS_URL)\n",
    "    with open(os.path.join('traiding_dataset', 'dataset.zip'), 'wb') as handle:\n",
    "        for batch in response.iter_bytes():\n",
    "            print(batch)\n",
    "\n",
    "    print(response.content)\n",
    "    output = 'shares.zip' # Указываем имя файла, в который сохраняем файл\n",
    "\n",
    "    # gdown.download(url, output, quiet=True) \n",
    "    \n",
    "    # if not os.path.exists('/content/трейдинг/'): \n",
    "    \n",
    "        # распаковать_архив(откуда = \"shares.zip\",куда = \"/content/\")\n",
    "        # os.rename('/content/shares','/content/трейдинг')\n",
    "\n",
    "(train_dataset, train_dataset_marks), (test_dataset, test_dataset_marks) = (list(), list()), (list(), list()) \n",
    "if values := get_numbers_data():\n",
    "    (train_dataset, train_dataset_marks), (test_dataset, test_dataset_marks) = values\n",
    "\n",
    "\n",
    "print(f'{len(train_dataset)=}')\n",
    "print(f'{len(train_dataset_marks)=}')\n",
    "print(f'{len(test_dataset)=}')\n",
    "print(f'{len(test_dataset_marks)=}')\n"
   ]
  },
  {
   "cell_type": "code",
   "execution_count": null,
   "metadata": {},
   "outputs": [],
   "source": []
  },
  {
   "cell_type": "code",
   "execution_count": null,
   "metadata": {},
   "outputs": [],
   "source": []
  }
 ],
 "metadata": {
  "kernelspec": {
   "display_name": "Python 3 (ipykernel)",
   "language": "python",
   "name": "python3"
  },
  "language_info": {
   "codemirror_mode": {
    "name": "ipython",
    "version": 3
   },
   "file_extension": ".py",
   "mimetype": "text/x-python",
   "name": "python",
   "nbconvert_exporter": "python",
   "pygments_lexer": "ipython3",
   "version": "3.10.9"
  }
 },
 "nbformat": 4,
 "nbformat_minor": 4
}
