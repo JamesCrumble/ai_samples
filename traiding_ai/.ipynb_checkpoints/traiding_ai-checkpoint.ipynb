{
 "cells": [
  {
   "cell_type": "code",
   "execution_count": 2,
   "metadata": {},
   "outputs": [
    {
     "name": "stdout",
     "output_type": "stream",
     "text": [
      "[PhysicalDevice(name='/physical_device:GPU:0', device_type='GPU')]\n"
     ]
    }
   ],
   "source": [
    "import keras\n",
    "import tensorflow as tf\n",
    "\n",
    "import numpy as np\n",
    "import matplotlib.pyplot as plt\n",
    "\n",
    "from keras import Sequential\n",
    "from keras.optimizers import Adam\n",
    "from keras.utils import plot_model\n",
    "from keras.callbacks import History\n",
    "from keras.layers import Dense, Input, Conv2D\n",
    "# from keras.callbacks import LambdaCallback, ModelCheckpoint\n",
    "\n",
    "\n",
    "EPOCHS: int = 2\n",
    "BATCH_SIZE: int = 128\n",
    "LOAD_MODEL: bool = False\n",
    "MODEL_FILENAME: str = 'numbers_detection.h5'\n",
    "\n",
    "print(tf.config.list_physical_devices('GPU'))"
   ]
  },
  {
   "cell_type": "code",
   "execution_count": 6,
   "metadata": {},
   "outputs": [
    {
     "name": "stdout",
     "output_type": "stream",
     "text": [
      "/bin/bash: /home/james/miniconda3/envs/tf/lib/libtinfo.so.6: no version information available (required by /bin/bash)\n",
      "Defaulting to user installation because normal site-packages is not writeable\n",
      "Collecting httpx\n",
      "  Using cached httpx-0.23.3-py3-none-any.whl (71 kB)\n",
      "Requirement already satisfied: certifi in /usr/lib/python3/dist-packages (from httpx) (2019.11.28)\n",
      "Collecting httpcore<0.17.0,>=0.15.0\n",
      "  Using cached httpcore-0.16.3-py3-none-any.whl (69 kB)\n",
      "Collecting rfc3986[idna2008]<2,>=1.3\n",
      "  Using cached rfc3986-1.5.0-py2.py3-none-any.whl (31 kB)\n",
      "Collecting sniffio\n",
      "  Using cached sniffio-1.3.0-py3-none-any.whl (10 kB)\n",
      "Collecting h11<0.15,>=0.13\n",
      "  Using cached h11-0.14.0-py3-none-any.whl (58 kB)\n",
      "Collecting anyio<5.0,>=3.0\n",
      "  Using cached anyio-3.6.2-py3-none-any.whl (80 kB)\n",
      "Requirement already satisfied: idna in /usr/lib/python3/dist-packages (from rfc3986[idna2008]<2,>=1.3->httpx) (2.8)\n",
      "Installing collected packages: rfc3986, sniffio, h11, anyio, httpcore, httpx\n",
      "Successfully installed anyio-3.6.2 h11-0.14.0 httpcore-0.16.3 httpx-0.23.3 rfc3986-1.5.0 sniffio-1.3.0\n",
      "<module 'httpx' from '/home/james/miniconda3/envs/tf/lib/python3.10/site-packages/httpx/__init__.py'>\n"
     ]
    },
    {
     "ename": "NameError",
     "evalue": "name 'gdown' is not defined",
     "output_type": "error",
     "traceback": [
      "\u001b[0;31m---------------------------------------------------------------------------\u001b[0m",
      "\u001b[0;31mNameError\u001b[0m                                 Traceback (most recent call last)",
      "Cell \u001b[0;32mIn[6], line 22\u001b[0m\n\u001b[1;32m     18\u001b[0m         os\u001b[39m.\u001b[39mrename(\u001b[39m'\u001b[39m\u001b[39m/content/shares\u001b[39m\u001b[39m'\u001b[39m,\u001b[39m'\u001b[39m\u001b[39m/content/трейдинг\u001b[39m\u001b[39m'\u001b[39m)\n\u001b[1;32m     20\u001b[0m     \u001b[39mreturn\u001b[39;00m \u001b[39mtuple\u001b[39m()\n\u001b[0;32m---> 22\u001b[0m (train_dataset, train_dataset_marks), (test_dataset, test_dataset_marks) \u001b[39m=\u001b[39m get_numbers_data()\n\u001b[1;32m     24\u001b[0m \u001b[39mprint\u001b[39m(\u001b[39mf\u001b[39m\u001b[39m'\u001b[39m\u001b[39m{\u001b[39;00m\u001b[39mlen\u001b[39m(train_dataset)\u001b[39m=}\u001b[39;00m\u001b[39m'\u001b[39m)\n\u001b[1;32m     25\u001b[0m \u001b[39mprint\u001b[39m(\u001b[39mf\u001b[39m\u001b[39m'\u001b[39m\u001b[39m{\u001b[39;00m\u001b[39mlen\u001b[39m(train_dataset_marks)\u001b[39m=}\u001b[39;00m\u001b[39m'\u001b[39m)\n",
      "Cell \u001b[0;32mIn[6], line 13\u001b[0m, in \u001b[0;36mget_numbers_data\u001b[0;34m()\u001b[0m\n\u001b[1;32m     10\u001b[0m url \u001b[39m=\u001b[39m \u001b[39m'\u001b[39m\u001b[39mhttps://storage.googleapis.com/terra_ai/DataSets/shares.zip\u001b[39m\u001b[39m'\u001b[39m\n\u001b[1;32m     11\u001b[0m output \u001b[39m=\u001b[39m \u001b[39m'\u001b[39m\u001b[39mshares.zip\u001b[39m\u001b[39m'\u001b[39m \u001b[39m# Указываем имя файла, в который сохраняем файл\u001b[39;00m\n\u001b[0;32m---> 13\u001b[0m gdown\u001b[39m.\u001b[39mdownload(url, output, quiet\u001b[39m=\u001b[39m\u001b[39mTrue\u001b[39;00m) \n\u001b[1;32m     15\u001b[0m \u001b[39mif\u001b[39;00m \u001b[39mnot\u001b[39;00m os\u001b[39m.\u001b[39mpath\u001b[39m.\u001b[39mexists(\u001b[39m'\u001b[39m\u001b[39m/content/трейдинг/\u001b[39m\u001b[39m'\u001b[39m): \n\u001b[1;32m     17\u001b[0m     распаковать_архив(откуда \u001b[39m=\u001b[39m \u001b[39m\"\u001b[39m\u001b[39mshares.zip\u001b[39m\u001b[39m\"\u001b[39m,куда \u001b[39m=\u001b[39m \u001b[39m\"\u001b[39m\u001b[39m/content/\u001b[39m\u001b[39m\"\u001b[39m)\n",
      "\u001b[0;31mNameError\u001b[0m: name 'gdown' is not defined"
     ]
    }
   ],
   "source": [
    "import httpx\n",
    "\n",
    "def get_numbers_data() -> tuple[tuple[np.ndarray, np.ndarray], tuple[np.ndarray, np.ndarray]]:\n",
    "    # return mnist.load_data()\n",
    "\n",
    "    url = 'https://storage.googleapis.com/terra_ai/DataSets/shares.zip'\n",
    "    output = 'shares.zip' # Указываем имя файла, в который сохраняем файл\n",
    "\n",
    "    gdown.download(url, output, quiet=True) \n",
    "    \n",
    "    if not os.path.exists('/content/трейдинг/'): \n",
    "    \n",
    "        распаковать_архив(откуда = \"shares.zip\",куда = \"/content/\")\n",
    "        os.rename('/content/shares','/content/трейдинг')\n",
    "    \n",
    "    return tuple()\n",
    "\n",
    "(train_dataset, train_dataset_marks), (test_dataset, test_dataset_marks) = get_numbers_data()\n",
    "\n",
    "print(f'{len(train_dataset)=}')\n",
    "print(f'{len(train_dataset_marks)=}')\n",
    "print(f'{len(test_dataset)=}')\n",
    "print(f'{len(test_dataset_marks)=}')\n"
   ]
  },
  {
   "cell_type": "code",
   "execution_count": null,
   "metadata": {},
   "outputs": [],
   "source": []
  },
  {
   "cell_type": "code",
   "execution_count": null,
   "metadata": {},
   "outputs": [],
   "source": []
  }
 ],
 "metadata": {
  "kernelspec": {
   "display_name": "Python 3 (ipykernel)",
   "language": "python",
   "name": "python3"
  },
  "language_info": {
   "codemirror_mode": {
    "name": "ipython",
    "version": 3
   },
   "file_extension": ".py",
   "mimetype": "text/x-python",
   "name": "python",
   "nbconvert_exporter": "python",
   "pygments_lexer": "ipython3",
   "version": "3.10.9"
  }
 },
 "nbformat": 4,
 "nbformat_minor": 4
}
